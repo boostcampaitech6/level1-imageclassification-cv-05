{
 "cells": [
  {
   "cell_type": "code",
   "execution_count": 2,
   "metadata": {},
   "outputs": [
    {
     "name": "stderr",
     "output_type": "stream",
     "text": [
      "/opt/conda/lib/python3.10/site-packages/tqdm/auto.py:21: TqdmWarning: IProgress not found. Please update jupyter and ipywidgets. See https://ipywidgets.readthedocs.io/en/stable/user_install.html\n",
      "  from .autonotebook import tqdm as notebook_tqdm\n"
     ]
    }
   ],
   "source": [
    "import argparse\n",
    "import multiprocessing\n",
    "import os\n",
    "from importlib import import_module\n",
    "\n",
    "import pandas as pd\n",
    "import torch\n",
    "from torch.utils.data import DataLoader\n",
    "\n",
    "from dataset import TestDataset, MaskBaseDataset"
   ]
  },
  {
   "cell_type": "code",
   "execution_count": 18,
   "metadata": {},
   "outputs": [],
   "source": [
    "@torch.no_grad()\n",
    "def inference(data_dir, model, output_dir, args):\n",
    "    \"\"\"\n",
    "    모델 추론을 수행하는 함수\n",
    "\n",
    "    Args:\n",
    "        data_dir (str): 테스트 데이터가 있는 디렉토리 경로\n",
    "        model_dir (str): 모델 가중치가 저장된 디렉토리 경로\n",
    "        output_dir (str): 결과 CSV를 저장할 디렉토리 경로\n",
    "        args (argparse.Namespace): 커맨드 라인 인자\n",
    "\n",
    "    Returns:\n",
    "        None\n",
    "    \"\"\"\n",
    "\n",
    "    # CUDA를 사용할 수 있는지 확인\n",
    "    use_cuda = torch.cuda.is_available()\n",
    "    device = torch.device(\"cuda\" if use_cuda else \"cpu\")\n",
    "\n",
    "    # 클래스의 개수를 설정한다. (마스크, 성별, 나이의 조합으로 18)\n",
    "    num_classes = MaskBaseDataset.num_classes  # 18\n",
    "    # model = load_model(model_dir, num_classes, device).to(device)\n",
    "    model.eval()\n",
    "\n",
    "    # 이미지 파일 경로와 정보 파일을 읽어온다.\n",
    "    print(data_dir)\n",
    "    img_root = os.path.join(data_dir, \"images\")\n",
    "    info_path = os.path.join(data_dir, \"info.csv\")\n",
    "    info = pd.read_csv(info_path)\n",
    "\n",
    "    # 이미지 경로를 리스트로 생성한다.\n",
    "    img_paths = [os.path.join(img_root, img_id) for img_id in info.ImageID]\n",
    "    dataset = TestDataset(img_paths, args.resize)\n",
    "    loader = torch.utils.data.DataLoader(\n",
    "        dataset,\n",
    "        batch_size=args.batch_size,\n",
    "        num_workers=multiprocessing.cpu_count() // 2,\n",
    "        shuffle=False,\n",
    "        pin_memory=use_cuda,\n",
    "        drop_last=False,\n",
    "    )\n",
    "\n",
    "    print(\"Calculating inference results..\")\n",
    "    preds = []\n",
    "    with torch.no_grad():\n",
    "        for idx, images in enumerate(loader):\n",
    "            images = images#.to(device)\n",
    "            pred = model(images)\n",
    "            pred = pred.argmax(dim=-1)\n",
    "            preds.extend(pred.cpu().numpy())\n",
    "\n",
    "    # 예측 결과를 데이터프레임에 저장하고 csv 파일로 출력한다.\n",
    "    info[\"ans\"] = preds\n",
    "    save_path = os.path.join(output_dir, f\"output.csv\")\n",
    "    info.to_csv(save_path, index=False)\n",
    "    print(f\"Inference Done! Inference result saved at {save_path}\")"
   ]
  },
  {
   "cell_type": "code",
   "execution_count": 4,
   "metadata": {},
   "outputs": [],
   "source": [
    "import timm\n",
    "from torch import nn\n",
    "def make_model(num_classes,model_path):\n",
    "    use_cuda = torch.cuda.is_available()\n",
    "    device = torch.device(\"cuda\" if use_cuda else \"cpu\")\n",
    "\n",
    "    # 클래스의 개수를 설정한다. (마스크, 성별, 나이의 조합으로 18)\n",
    "    # num_classes = MaskBaseDataset.num_classes  # 18\n",
    "    \n",
    "    # model = load_model(model_dir, num_classes, device).to(device)\n",
    "\n",
    "    model = timm.create_model('efficientnet_b1', pretrained=True)\n",
    "    num_features = model.classifier.in_features\n",
    "    model.classifier = nn.Linear(num_features, num_classes)  # 18개의 출력 레이블을 가진 새로운 분류기\n",
    "    model.load_state_dict(torch.load(model_path, map_location=device))\n",
    "    return model"
   ]
  },
  {
   "cell_type": "code",
   "execution_count": 6,
   "metadata": {},
   "outputs": [],
   "source": [
    "mask_model = make_model(3,'../v3/model/mask_model/best.pth')\n",
    "gender_model = make_model(2,'../v3/model/gender_model2/best.pth')\n",
    "age_model = make_model(3,'../v3/model/age_model/best.pth')"
   ]
  },
  {
   "cell_type": "code",
   "execution_count": 9,
   "metadata": {},
   "outputs": [],
   "source": [
    "class Args():\n",
    "    batch_size = 1000\n",
    "    resize = (240,240)\n",
    "    \n",
    "    # mask_model = make_model(3,'../v3/model/mask_model4/best.pth')\n",
    "    # gender_model = make_model(3,'../v3/model/age_model3/best.pth')\n",
    "    # age_model = make_model(3,'../v3/model/gender_model3/best.pth')\n",
    "    data_dir = os.environ.get(\"SM_CHANNEL_EVAL\", \"../../../Data/eval/\"),\n",
    "    output_dir = os.environ.get(\"SM_OUTPUT_DATA_DIR\", \"./output\")\n",
    "    \n",
    "args = Args()"
   ]
  },
  {
   "cell_type": "code",
   "execution_count": 21,
   "metadata": {},
   "outputs": [
    {
     "name": "stdout",
     "output_type": "stream",
     "text": [
      "../../../Data/eval/\n",
      "Calculating inference results..\n"
     ]
    },
    {
     "name": "stderr",
     "output_type": "stream",
     "text": [
      "/opt/conda/lib/python3.10/site-packages/torchvision/transforms/transforms.py:332: UserWarning: Argument 'interpolation' of type int is deprecated since 0.13 and will be removed in 0.15. Please use InterpolationMode enum.\n",
      "  warnings.warn(\n"
     ]
    },
    {
     "name": "stdout",
     "output_type": "stream",
     "text": [
      "Inference Done! Inference result saved at ./output/output.csv\n"
     ]
    }
   ],
   "source": [
    "data_dir = args.data_dir\n",
    "# model_dir = args.model_dir\n",
    "output_dir = args.output_dir\n",
    "\n",
    "os.makedirs('./output/', exist_ok=True)\n",
    "\n",
    "# 모델 추론을 수행한다.\n",
    "inference('../../../Data/eval/', age_model, output_dir, args)\n"
   ]
  },
  {
   "cell_type": "code",
   "execution_count": null,
   "metadata": {},
   "outputs": [],
   "source": []
  }
 ],
 "metadata": {
  "kernelspec": {
   "display_name": "base",
   "language": "python",
   "name": "python3"
  },
  "language_info": {
   "codemirror_mode": {
    "name": "ipython",
    "version": 3
   },
   "file_extension": ".py",
   "mimetype": "text/x-python",
   "name": "python",
   "nbconvert_exporter": "python",
   "pygments_lexer": "ipython3",
   "version": "3.10.13"
  }
 },
 "nbformat": 4,
 "nbformat_minor": 2
}
